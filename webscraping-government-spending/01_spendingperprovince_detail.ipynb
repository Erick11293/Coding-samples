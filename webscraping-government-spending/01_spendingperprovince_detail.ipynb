{
 "cells": [
  {
   "cell_type": "code",
   "execution_count": 1,
   "metadata": {},
   "outputs": [],
   "source": [
    "import pandas as pd\n",
    "import numpy as np\n",
    "\n",
    "import matplotlib.pyplot as plt\n",
    "\n",
    "\n"
   ]
  },
  {
   "cell_type": "markdown",
   "metadata": {},
   "source": [
    "###### Population"
   ]
  },
  {
   "cell_type": "code",
   "execution_count": 2,
   "metadata": {},
   "outputs": [],
   "source": [
    "population = pd.read_pickle(\"../../output/population/populationperegion.pickle\")"
   ]
  },
  {
   "cell_type": "code",
   "execution_count": 3,
   "metadata": {},
   "outputs": [],
   "source": [
    "population['ubigeo'] = population['Ubigeo'].replace({'0701':'1501'})"
   ]
  },
  {
   "cell_type": "code",
   "execution_count": 4,
   "metadata": {},
   "outputs": [
    {
     "name": "stderr",
     "output_type": "stream",
     "text": [
      "C:\\Users\\Usuario\\AppData\\Local\\Temp\\ipykernel_6344\\3543675488.py:1: FutureWarning: The default value of numeric_only in DataFrameGroupBy.sum is deprecated. In a future version, numeric_only will default to False. Either specify numeric_only or select only columns which should be valid for the function.\n",
      "  populationpp = population.groupby(\"ubigeo\").sum().sort_index(axis = 1)\n"
     ]
    }
   ],
   "source": [
    "populationpp = population.groupby(\"ubigeo\").sum().sort_index(axis = 1)"
   ]
  },
  {
   "cell_type": "code",
   "execution_count": 5,
   "metadata": {},
   "outputs": [],
   "source": [
    "populationpr = populationpp.assign(ubigeo = lambda df: df.index.str[0:2] + '00').reset_index(drop = True).groupby('ubigeo').sum()"
   ]
  },
  {
   "cell_type": "code",
   "execution_count": 6,
   "metadata": {},
   "outputs": [],
   "source": [
    "populationb = pd.concat([populationpp,populationpr]).stack()"
   ]
  },
  {
   "cell_type": "code",
   "execution_count": 7,
   "metadata": {},
   "outputs": [],
   "source": [
    "populationb.index.names = ['ubigeo','year']"
   ]
  },
  {
   "cell_type": "markdown",
   "metadata": {},
   "source": [
    "###### Spending"
   ]
  },
  {
   "cell_type": "code",
   "execution_count": 8,
   "metadata": {},
   "outputs": [],
   "source": [
    "spending = pd.read_pickle(\"../../output/public_spending/data_spending.pickle\")"
   ]
  },
  {
   "cell_type": "code",
   "execution_count": 9,
   "metadata": {},
   "outputs": [],
   "source": [
    "spending['ubigeo'] = spending['ubigeo'].replace({'0701':'1501'})"
   ]
  },
  {
   "cell_type": "code",
   "execution_count": 10,
   "metadata": {},
   "outputs": [],
   "source": [
    "spending = spending[spending.year > 2006]"
   ]
  },
  {
   "cell_type": "code",
   "execution_count": 11,
   "metadata": {},
   "outputs": [],
   "source": [
    "data = spending.pipe(lambda df: df.groupby(['ubigeo','year','BtnTipoGobierno','TIPO_G'])[['Devengado','PIM']].sum()).rename(columns = lambda col: \"USE_\" + col)\n",
    "\n",
    "data = data.join(populationb.rename(\"pop\")).apply(lambda y: y/y['pop'], axis = 1).drop(columns = ['pop'])"
   ]
  },
  {
   "cell_type": "code",
   "execution_count": 12,
   "metadata": {},
   "outputs": [
    {
     "name": "stderr",
     "output_type": "stream",
     "text": [
      "C:\\Users\\Usuario\\AppData\\Local\\Temp\\ipykernel_6344\\1238078991.py:5: SettingWithCopyWarning: \n",
      "A value is trying to be set on a copy of a slice from a DataFrame.\n",
      "Try using .loc[row_indexer,col_indexer] = value instead\n",
      "\n",
      "See the caveats in the documentation: https://pandas.pydata.org/pandas-docs/stable/user_guide/indexing.html#returning-a-view-versus-a-copy\n",
      "  dataprovince.loc[:,'region'] = dataprovince.index.get_level_values(0).str[:2]\n",
      "C:\\Users\\Usuario\\AppData\\Local\\Temp\\ipykernel_6344\\1238078991.py:7: SettingWithCopyWarning: \n",
      "A value is trying to be set on a copy of a slice from a DataFrame.\n",
      "Try using .loc[row_indexer,col_indexer] = value instead\n",
      "\n",
      "See the caveats in the documentation: https://pandas.pydata.org/pandas-docs/stable/user_guide/indexing.html#returning-a-view-versus-a-copy\n",
      "  dataregion.loc[:,'region'] = dataregion.index.get_level_values(0).str[:2]\n"
     ]
    }
   ],
   "source": [
    "dataprovince = data.loc[data.index.get_level_values(0).str[2:] != '00']\n",
    "\n",
    "dataregion = data.loc[data.index.get_level_values(0).str[2:] == '00']\n",
    "\n",
    "dataprovince.loc[:,'region'] = dataprovince.index.get_level_values(0).str[:2]\n",
    "\n",
    "dataregion.loc[:,'region'] = dataregion.index.get_level_values(0).str[:2]\n",
    "\n",
    "dataprovince = dataprovince.set_index('region',append= True).stack().unstack([2,3,5])\n",
    "\n",
    "dataregion = dataregion.set_index('region',append= True).stack().unstack([2,3,5]).reset_index('ubigeo', drop = True)"
   ]
  },
  {
   "cell_type": "code",
   "execution_count": 13,
   "metadata": {},
   "outputs": [],
   "source": [
    "datafinal = dataprovince.join(dataregion)\n",
    "\n",
    "datafinal = datafinal.sort_index(axis = 1).fillna(0)"
   ]
  },
  {
   "cell_type": "code",
   "execution_count": 14,
   "metadata": {},
   "outputs": [],
   "source": [
    "datafinal.to_pickle(\"../../output/public_spending/data_spending_per_type.pickle\")"
   ]
  }
 ],
 "metadata": {
  "kernelspec": {
   "display_name": "ffh",
   "language": "python",
   "name": "ffh"
  },
  "language_info": {
   "codemirror_mode": {
    "name": "ipython",
    "version": 3
   },
   "file_extension": ".py",
   "mimetype": "text/x-python",
   "name": "python",
   "nbconvert_exporter": "python",
   "pygments_lexer": "ipython3",
   "version": "3.9.15"
  }
 },
 "nbformat": 4,
 "nbformat_minor": 4
}
