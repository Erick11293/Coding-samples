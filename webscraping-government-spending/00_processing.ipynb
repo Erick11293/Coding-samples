{
 "cells": [
  {
   "cell_type": "code",
   "execution_count": 1,
   "metadata": {},
   "outputs": [],
   "source": [
    "import pandas as pd\n",
    "import numpy as np"
   ]
  },
  {
   "cell_type": "code",
   "execution_count": 2,
   "metadata": {},
   "outputs": [],
   "source": [
    "import json"
   ]
  },
  {
   "cell_type": "markdown",
   "metadata": {},
   "source": [
    "#antes del 2011\n",
    "1 PIA\n",
    "2 PIM\n",
    "3 Compromiso\n",
    "4 Devengado\n",
    "5 Girado\n",
    "\n",
    "#Despues del 2011\n",
    "1 PIA\n",
    "2 PIM\n",
    "3 Certificacion\n",
    "4 Compromiso\n",
    "5 Atencion del compromiso\n",
    "6 Devengado\n",
    "7 Girado\n"
   ]
  },
  {
   "cell_type": "code",
   "execution_count": 3,
   "metadata": {},
   "outputs": [],
   "source": [
    "def process_obs(row, level_name, levels):\n",
    "    try:\n",
    "        df = pd.DataFrame(map(lambda y: y.split(\"/\"), row.split(\",\")))\n",
    "        #Eliminando Certificacion y atencion del compromiso\n",
    "        if len(df.columns) == 8:\n",
    "            df = df[[0,1,2,3,5,6]]\n",
    "            df.columns = [0,1,2,3,4,5]\n",
    "        df = df.rename(columns = {0: level_name,\n",
    "                                  1: 'PIA',\n",
    "                                  2: 'PIM',\n",
    "                                  3: 'Compromiso',\n",
    "                                  4: 'Devengado',\n",
    "                                  5: 'Girado'}\n",
    "                      )\n",
    "        for level in levels.keys():\n",
    "            df[level] = levels[level]\n",
    "        #df.set_index([0])\n",
    "        #df.index.name = level_name\n",
    "        return df\n",
    "    except:\n",
    "        return pd.DataFrame()"
   ]
  },
  {
   "cell_type": "code",
   "execution_count": 4,
   "metadata": {},
   "outputs": [],
   "source": [
    "def dim_transform(list_):\n",
    "    dim_ = {}\n",
    "    for i, item in enumerate(list_[:-1:2]):\n",
    "        dim_[item] = list_[2*i + 1]\n",
    "    return [dim_, list_[-1]]"
   ]
  },
  {
   "cell_type": "code",
   "execution_count": null,
   "metadata": {},
   "outputs": [],
   "source": []
  },
  {
   "cell_type": "code",
   "execution_count": 5,
   "metadata": {},
   "outputs": [],
   "source": [
    "def process_file(file):\n",
    "    data_departamentos = pd.read_csv(file)\n",
    "\n",
    "    data_departamentos.index.name = 'obs'\n",
    "    data_departamentos['year'] = data_departamentos['url'].apply(lambda y: y.split(\"=\")[1].split(\"&\")[0])\n",
    "    data_departamentos['hierarchy'] = data_departamentos['hierarchy'].str.replace(\"]\",\"\").str.replace(\"]\",\"\").str.split(\",\")\n",
    "    data_departamentos['hierarchy'] = data_departamentos['hierarchy'].apply(lambda y: [value.split(\"/\")[0] for value in y][1:])\n",
    "    data_departamentos['detail'] = data_departamentos['hierarchy'].apply(dim_transform)\n",
    "    \n",
    "    data_all = pd.concat(data_departamentos.apply(lambda row: process_obs(row['data'], row['detail'][-1], row['detail'][0]), axis = 1).values, keys= data_departamentos.index)\n",
    "    data_all['PIA'] = data_all['PIA'].apply(pd.to_numeric)\n",
    "    data_all['PIM'] = data_all['PIM'].apply(pd.to_numeric)\n",
    "    data_all['Compromiso'] = data_all['Compromiso'].apply(pd.to_numeric)\n",
    "    data_all['Devengado'] = data_all['Devengado'].apply(pd.to_numeric)\n",
    "    data_all['Girado'] = data_all['Girado'].apply(pd.to_numeric)\n",
    "    \n",
    "    data_all = data_all.join(data_departamentos['year'])\n",
    "\n",
    "    return data_all\n"
   ]
  },
  {
   "cell_type": "code",
   "execution_count": 6,
   "metadata": {},
   "outputs": [
    {
     "name": "stderr",
     "output_type": "stream",
     "text": [
      "C:\\Users\\Usuario\\AppData\\Local\\Temp\\ipykernel_19940\\386306956.py:6: FutureWarning: The default value of regex will change from True to False in a future version. In addition, single character regular expressions will *not* be treated as literal strings when regex=True.\n",
      "  data_departamentos['hierarchy'] = data_departamentos['hierarchy'].str.replace(\"]\",\"\").str.replace(\"]\",\"\").str.split(\",\")\n"
     ]
    }
   ],
   "source": [
    "file= \"../../interm/public_spending/data_prov.csv\"\n",
    "\n",
    "data_2004_2019 = process_file(file)"
   ]
  },
  {
   "cell_type": "code",
   "execution_count": null,
   "metadata": {},
   "outputs": [
    {
     "name": "stderr",
     "output_type": "stream",
     "text": [
      "C:\\Users\\Usuario\\AppData\\Local\\Temp\\ipykernel_19940\\386306956.py:6: FutureWarning: The default value of regex will change from True to False in a future version. In addition, single character regular expressions will *not* be treated as literal strings when regex=True.\n",
      "  data_departamentos['hierarchy'] = data_departamentos['hierarchy'].str.replace(\"]\",\"\").str.replace(\"]\",\"\").str.split(\",\")\n"
     ]
    }
   ],
   "source": [
    "file= \"../../interm/public_spending/data_2017.csv\"\n",
    "\n",
    "data_2017 = process_file(file)"
   ]
  },
  {
   "cell_type": "code",
   "execution_count": null,
   "metadata": {},
   "outputs": [],
   "source": [
    "file= \"../../interm/public_spending/data_2019_2021.csv\"\n",
    "\n",
    "data_2019_2021 = process_file(file)"
   ]
  },
  {
   "cell_type": "code",
   "execution_count": null,
   "metadata": {},
   "outputs": [],
   "source": [
    "file= \"../../interm/public_spending/data_2022.csv\"\n",
    "\n",
    "data_2022 = process_file(file)"
   ]
  },
  {
   "cell_type": "code",
   "execution_count": null,
   "metadata": {},
   "outputs": [],
   "source": [
    "data = data_2004_2019[~data_2004_2019.year.isin([\"2017\",\"2019\"])].append(data_2019_2021).append(data_2017).append(data_2022)"
   ]
  },
  {
   "cell_type": "code",
   "execution_count": null,
   "metadata": {},
   "outputs": [],
   "source": [
    "data['year'] = data['year'].apply(int)"
   ]
  },
  {
   "cell_type": "code",
   "execution_count": null,
   "metadata": {},
   "outputs": [],
   "source": []
  },
  {
   "cell_type": "code",
   "execution_count": null,
   "metadata": {},
   "outputs": [],
   "source": [
    "clasiffication = pd.read_excel(\"../../external/classification.xlsx\", sheet_name=None, dtype = str)"
   ]
  },
  {
   "cell_type": "code",
   "execution_count": null,
   "metadata": {},
   "outputs": [],
   "source": [
    "clasiffication['GENERICA_N_2'].iloc[:,0] = clasiffication['GENERICA_N_2'].iloc[:,0].apply(lambda y: y[:-1] + \"-\" + y[-1])"
   ]
  },
  {
   "cell_type": "code",
   "execution_count": null,
   "metadata": {},
   "outputs": [],
   "source": [
    "data_1 = data[data.year < 2009]\n",
    "data_2 = data[data.year >= 2009]"
   ]
  },
  {
   "cell_type": "code",
   "execution_count": null,
   "metadata": {},
   "outputs": [],
   "source": [
    "data_1 = data_1.merge(clasiffication['FUNCION_C_1'], how = 'left').merge(clasiffication['GENERICA_N_1'], how = 'left')\n",
    "data_2 = data_2.merge(clasiffication['FUNCION_C_2'], how = 'left').merge(clasiffication['GENERICA_N_2'], how = 'left')"
   ]
  },
  {
   "cell_type": "code",
   "execution_count": null,
   "metadata": {},
   "outputs": [],
   "source": [
    "data = pd.concat([data_1, data_2])"
   ]
  },
  {
   "cell_type": "code",
   "execution_count": null,
   "metadata": {},
   "outputs": [],
   "source": [
    "data.columns = data.columns.str.split(\"$\").str[-1]"
   ]
  },
  {
   "cell_type": "code",
   "execution_count": null,
   "metadata": {},
   "outputs": [],
   "source": [
    "data['ubigeo'] = data[\"BtnDepartamentoMeta\"] + data[\"BtnProvincia\"].fillna(\"00\")"
   ]
  },
  {
   "cell_type": "code",
   "execution_count": null,
   "metadata": {},
   "outputs": [],
   "source": [
    "data.to_pickle(\"../../output/public_spending/data_spending.pickle\")"
   ]
  }
 ],
 "metadata": {
  "kernelspec": {
   "display_name": "ffh",
   "language": "python",
   "name": "ffh"
  },
  "language_info": {
   "codemirror_mode": {
    "name": "ipython",
    "version": 3
   },
   "file_extension": ".py",
   "mimetype": "text/x-python",
   "name": "python",
   "nbconvert_exporter": "python",
   "pygments_lexer": "ipython3",
   "version": "3.9.15"
  }
 },
 "nbformat": 4,
 "nbformat_minor": 4
}
